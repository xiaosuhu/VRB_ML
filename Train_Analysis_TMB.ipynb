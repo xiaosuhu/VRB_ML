{
 "cells": [
  {
   "cell_type": "code",
   "execution_count": 1,
   "metadata": {},
   "outputs": [],
   "source": [
    "import numpy as np\n",
    "import pandas as pd\n",
    "import scipy.io as io\n",
    "import os"
   ]
  },
  {
   "cell_type": "code",
   "execution_count": 2,
   "metadata": {},
   "outputs": [
    {
     "data": {
      "text/plain": [
       "True"
      ]
     },
     "execution_count": 2,
     "metadata": {},
     "output_type": "execute_result"
    }
   ],
   "source": [
    "import torch\n",
    "from torch import nn\n",
    "from torch.utils.data import DataLoader\n",
    "from torch.utils.data import Dataset\n",
    "from torchvision.transforms import ToTensor\n",
    "\n",
    "torch.cuda.is_available()"
   ]
  },
  {
   "cell_type": "code",
   "execution_count": 3,
   "metadata": {},
   "outputs": [],
   "source": [
    "class FNIRS_Dataset(Dataset):\n",
    "    def __init__(self, annotations_file, img_dir, transform=None, target_transform=None):\n",
    "        self.img_labels = pd.read_csv(annotations_file)\n",
    "        self.img_dir = img_dir\n",
    "        self.transform = transform\n",
    "        self.target_transform = target_transform\n",
    "        self.targets = self.img_labels['Label']\n",
    "\n",
    "    def __len__(self):\n",
    "        return len(self.img_labels)\n",
    "\n",
    "    def __getitem__(self, idx):\n",
    "        img_path = os.path.join(self.img_dir, self.img_labels.iloc[idx, 4])\n",
    "        image = np.float32(io.loadmat(img_path)['fnirsimg']).reshape(3,21,45)\n",
    "        label = self.img_labels.iloc[idx, 5]\n",
    "        if self.transform:\n",
    "            image = self.transform(image)\n",
    "        if self.target_transform:\n",
    "            label = self.target_transform(label)\n",
    "        return image, label"
   ]
  },
  {
   "cell_type": "code",
   "execution_count": 4,
   "metadata": {},
   "outputs": [],
   "source": [
    "train_data=FNIRS_Dataset(\n",
    "    '../Label_TMB.csv',\n",
    "    '../TMBData/'\n",
    ")"
   ]
  },
  {
   "cell_type": "code",
   "execution_count": 5,
   "metadata": {},
   "outputs": [],
   "source": [
    "from sklearn.model_selection import train_test_split\n",
    "\n",
    "total_targets=torch.asarray(train_data.targets)\n",
    "train_idx, valid_idx= train_test_split(\n",
    "    np.arange(len(total_targets)), test_size=0.2, random_state=42, shuffle=True, stratify=total_targets)\n",
    "\n",
    "train_set = torch.utils.data.Subset(train_data, train_idx)\n",
    "#val_set = torch.utils.data.Subset(train_data, valid_idx)\n",
    "\n",
    "train_sample_count = torch.tensor(\n",
    "    [(total_targets[train_idx] == t).sum() for t in torch.unique(total_targets, sorted=True)])\n",
    "train_weight = 1. / train_sample_count.float()\n",
    "train_sample_weight = torch.tensor([train_weight[t] for t in total_targets[train_idx]])\n"
   ]
  },
  {
   "cell_type": "code",
   "execution_count": 6,
   "metadata": {},
   "outputs": [
    {
     "data": {
      "text/plain": [
       "tensor(1912)"
      ]
     },
     "execution_count": 6,
     "metadata": {},
     "output_type": "execute_result"
    }
   ],
   "source": [
    "total_targets.sum()"
   ]
  },
  {
   "cell_type": "code",
   "execution_count": 7,
   "metadata": {},
   "outputs": [],
   "source": [
    "batch_size = 64\n",
    "\n",
    "from torch.utils.data.sampler import SubsetRandomSampler, WeightedRandomSampler\n",
    "\n",
    "# Creating PT data samplers and loaders:\n",
    "train_sampler = WeightedRandomSampler(train_sample_weight, len(train_sample_weight))\n",
    "# train_sampler = SubsetRandomSampler(train_idx)\n",
    "valid_sampler = SubsetRandomSampler(valid_idx)\n",
    "\n",
    "train_loader = torch.utils.data.DataLoader(train_set, batch_size=batch_size, \n",
    "                                           sampler=train_sampler)\n",
    "validation_loader = torch.utils.data.DataLoader(train_data, batch_size=batch_size,\n",
    "                                                sampler=valid_sampler)\n",
    "\n",
    "#train_dataloader = DataLoader(train_data, batch_size=64, shuffle=True)\n",
    "#test_dataloader = DataLoader(test_data, batch_size=64, shuffle=True)"
   ]
  },
  {
   "cell_type": "code",
   "execution_count": 8,
   "metadata": {},
   "outputs": [
    {
     "name": "stdout",
     "output_type": "stream",
     "text": [
      "batch index 0, 0/1: 35/29\n",
      "batch index 1, 0/1: 28/36\n",
      "batch index 2, 0/1: 30/34\n",
      "batch index 3, 0/1: 29/35\n",
      "batch index 4, 0/1: 32/32\n",
      "batch index 5, 0/1: 31/33\n",
      "batch index 6, 0/1: 37/27\n",
      "batch index 7, 0/1: 30/34\n",
      "batch index 8, 0/1: 30/34\n",
      "batch index 9, 0/1: 30/34\n",
      "batch index 10, 0/1: 34/30\n"
     ]
    }
   ],
   "source": [
    "# Try to display each batch the imbalanced sample ratio\n",
    "\n",
    "for i,(x,y) in enumerate(train_loader):\n",
    "    if i <= 10:\n",
    "        print(\"batch index {}, 0/1: {}/{}\".format(\n",
    "            i, (y==0).sum(),(y==1).sum()\n",
    "        ))\n",
    "    \n",
    "    else:\n",
    "        break\n"
   ]
  },
  {
   "cell_type": "code",
   "execution_count": 9,
   "metadata": {},
   "outputs": [
    {
     "name": "stdout",
     "output_type": "stream",
     "text": [
      "Feature batch shape: torch.Size([64, 3, 21, 45])\n",
      "Labels batch shape: torch.Size([64])\n"
     ]
    }
   ],
   "source": [
    "train_features, train_labels = next(iter(train_loader))\n",
    "print(f\"Feature batch shape: {train_features.size()}\")\n",
    "print(f\"Labels batch shape: {train_labels.size()}\")"
   ]
  },
  {
   "cell_type": "code",
   "execution_count": 10,
   "metadata": {},
   "outputs": [
    {
     "name": "stderr",
     "output_type": "stream",
     "text": [
      "Clipping input data to the valid range for imshow with RGB data ([0..1] for floats or [0..255] for integers).\n",
      "Clipping input data to the valid range for imshow with RGB data ([0..1] for floats or [0..255] for integers).\n",
      "Clipping input data to the valid range for imshow with RGB data ([0..1] for floats or [0..255] for integers).\n",
      "Clipping input data to the valid range for imshow with RGB data ([0..1] for floats or [0..255] for integers).\n"
     ]
    },
    {
     "data": {
      "image/png": "[encoded data removed]",
      "text/plain": [
       "<Figure size 1500x900 with 4 Axes>"
      ]
     },
     "metadata": {},
     "output_type": "display_data"
    },
    {
     "name": "stdout",
     "output_type": "stream",
     "text": [
      "Label: (tensor(1), tensor(1), tensor(0), tensor(1))\n"
     ]
    }
   ],
   "source": [
    "import matplotlib.pyplot as plt\n",
    "plt.figure(figsize=(15,9))\n",
    "\n",
    "img = train_features[5].squeeze()\n",
    "label1 = train_labels[5]\n",
    "plt.subplot(1,4,1)\n",
    "plt.imshow(img.reshape(-1,45,3))\n",
    "\n",
    "img = train_features[18].squeeze()\n",
    "label2 = train_labels[18]\n",
    "plt.subplot(1,4,2)\n",
    "plt.imshow(img.reshape(-1,45,3))\n",
    "\n",
    "img = train_features[48].squeeze()\n",
    "label3 = train_labels[48]\n",
    "plt.subplot(1,4,3)\n",
    "plt.imshow(img.reshape(-1,45,3))\n",
    "\n",
    "img = train_features[63].squeeze()\n",
    "label4 = train_labels[63]\n",
    "plt.subplot(1,4,4)\n",
    "plt.imshow(img.reshape(-1,45,3))\n",
    "\n",
    "\n",
    "plt.show()\n",
    "print(f\"Label: {label1, label2,label3,label4 }\")"
   ]
  },
  {
   "cell_type": "code",
   "execution_count": 11,
   "metadata": {},
   "outputs": [
    {
     "name": "stdout",
     "output_type": "stream",
     "text": [
      "Using cuda device\n"
     ]
    }
   ],
   "source": [
    "# Get cpu or gpu device for training.\n",
    "device = \"cuda\" if torch.cuda.is_available() else \"mps\" if torch.backends.mps.is_available() else \"cpu\"\n",
    "print(f\"Using {device} device\")"
   ]
  },
  {
   "cell_type": "code",
   "execution_count": 12,
   "metadata": {},
   "outputs": [],
   "source": [
    "import timm\n",
    "\n",
    "model = timm.create_model('resnet34', num_classes=2, pretrained=False)\n",
    "x     = torch.randn(1, 3, 11, 45)\n",
    "model(x)\n",
    "model=model.to(device)"
   ]
  },
  {
   "cell_type": "code",
   "execution_count": 13,
   "metadata": {},
   "outputs": [],
   "source": [
    "loss_fn = nn.CrossEntropyLoss()\n",
    "optimizer = torch.optim.Adam(model.parameters(), lr=1e-3)"
   ]
  },
  {
   "cell_type": "code",
   "execution_count": 14,
   "metadata": {},
   "outputs": [],
   "source": [
    "def train(dataloader, model, loss_fn, optimizer):\n",
    "    size = len(dataloader.dataset)\n",
    "    model.train()\n",
    "    for batch, (X, y) in enumerate(dataloader):\n",
    "        X, y = X.to(device), y.to(device)\n",
    "\n",
    "        # Compute prediction error\n",
    "        pred = model(X)\n",
    "        loss = loss_fn(pred, y)\n",
    "\n",
    "        # Backpropagation\n",
    "        optimizer.zero_grad()\n",
    "        loss.backward()\n",
    "        optimizer.step()\n",
    "\n",
    "        if batch % 100 == 0:\n",
    "            loss, current = loss.item(), (batch + 1) * len(X)\n",
    "            print(f\"loss: {loss:>7f}  [{current:>5d}/{size:>5d}]\")\n",
    "\n",
    "    return loss\n",
    "\n",
    "def validate(dataloader, model, loss_fn):\n",
    "    size = len(dataloader.dataset)\n",
    "    model.eval()     # Optional when not using Model Specific layer\n",
    "\n",
    "    total_correct = 0\n",
    "    total_instances = 0\n",
    "\n",
    "    for batch, (X,y) in enumerate(dataloader):\n",
    "        X, y = X.to(device), y.to(device)\n",
    "\n",
    "        pred = model(X)\n",
    "        loss = loss_fn(pred,y)\n",
    "        classifications = torch.argmax(model(X), dim=1)\n",
    "        correct_predictions = sum(classifications==y).item()\n",
    "\n",
    "        total_correct+=correct_predictions\n",
    "        total_instances+=len(y)\n",
    "            \n",
    "        if batch % 100 == 0:\n",
    "            loss, current = loss.item(), (batch + 1) * len(X)\n",
    "            print(f\"val_loss: {loss:>7f}  [{current:>5d}/{size:>5d}]\")\n",
    "    \n",
    "    acc = total_correct/total_instances\n",
    "    print(f\"val_acc: {acc:>7f}\")\n",
    "\n",
    "    return loss, acc"
   ]
  },
  {
   "cell_type": "code",
   "execution_count": 19,
   "metadata": {},
   "outputs": [
    {
     "name": "stdout",
     "output_type": "stream",
     "text": [
      "Epoch 1\n",
      "-------------------------------\n",
      "loss: 0.532870  [   64/12182]\n"
     ]
    }
   ],
   "source": [
    "epochs = 2\n",
    "for t in range(epochs):\n",
    "    print(f\"Epoch {t+1}\\n-------------------------------\")\n",
    "    train(train_loader, model, loss_fn, optimizer)\n",
    "    validate(validation_loader, model, loss_fn)\n",
    "print(\"Done!\")"
   ]
  },
  {
   "cell_type": "code",
   "execution_count": 18,
   "metadata": {},
   "outputs": [
    {
     "data": {
      "application/vnd.jupyter.widget-view+json": {
       "model_id": "8bc1b36f8cfb4e938b91614f1f69d166",
       "version_major": 2,
       "version_minor": 0
      },
      "text/plain": [
       "  0%|          | 0/48 [00:00<?, ?it/s]"
      ]
     },
     "metadata": {},
     "output_type": "display_data"
    },
    {
     "data": {
      "text/plain": [
       "0.868"
      ]
     },
     "execution_count": 18,
     "metadata": {},
     "output_type": "execute_result"
    }
   ],
   "source": [
    "from tqdm.notebook import tqdm\n",
    "\n",
    "def accuracy(network, dataset):\n",
    "  \"\"\"\n",
    "  This function computes accuracy\n",
    "  \"\"\"\n",
    "  #  setting model state\n",
    "  network.eval()\n",
    "  \n",
    "  #  instantiating counters\n",
    "  total_correct = 0\n",
    "  total_instances = 0\n",
    "\n",
    "  #  creating dataloader\n",
    "  dataloader =dataset\n",
    "\n",
    "  #  iterating through batches\n",
    "  with torch.no_grad():\n",
    "    for images, labels in tqdm(dataloader):\n",
    "      images, labels = images.to(device), labels.to(device)\n",
    "\n",
    "      #-------------------------------------------------------------------------\n",
    "      #  making classifications and deriving indices of maximum value via argmax\n",
    "      #-------------------------------------------------------------------------\n",
    "      classifications = torch.argmax(network(images), dim=1)\n",
    "\n",
    "      #--------------------------------------------------\n",
    "      #  comparing indicies of maximum values and labels\n",
    "      #--------------------------------------------------\n",
    "      correct_predictions = sum(classifications==labels).item()\n",
    "\n",
    "      #------------------------\n",
    "      #  incrementing counters\n",
    "      #------------------------\n",
    "      total_correct+=correct_predictions\n",
    "      total_instances+=len(images)\n",
    "  return round(total_correct/total_instances, 3)\n",
    "\n",
    "accuracy(model, validation_loader)"
   ]
  },
  {
   "cell_type": "code",
   "execution_count": 16,
   "metadata": {},
   "outputs": [
    {
     "data": {
      "image/png": "[encoded data removed]",
      "text/plain": [
       "<Figure size 1200x700 with 2 Axes>"
      ]
     },
     "metadata": {},
     "output_type": "display_data"
    }
   ],
   "source": [
    "from sklearn.metrics import confusion_matrix\n",
    "import seaborn as sn\n",
    "import pandas as pd\n",
    "\n",
    "y_pred = []\n",
    "y_true = []\n",
    "y_true_roc = []\n",
    "\n",
    "# iterate over test data\n",
    "for inputs, labels in validation_loader:\n",
    "        inputs=inputs.to(device)\n",
    "        output = model(inputs) # Feed Network\n",
    "\n",
    "        output = (torch.argmax(output, 1)).data.cpu().numpy()\n",
    "        y_pred.extend(output) # Save Prediction\n",
    "        y_true_roc.extend((torch.softmax(model(inputs), 1)[:,1]).data.cpu().numpy())\n",
    "        \n",
    "        labels = labels.data.cpu().numpy()\n",
    "        y_true.extend(labels) # Save Truth\n",
    "\n",
    "# constant for classes\n",
    "classes = ('No_Pain','Pain')\n",
    "\n",
    "# Build confusion matrix\n",
    "cf_matrix = confusion_matrix(y_true, y_pred)\n",
    "df_cm = pd.DataFrame(cf_matrix / np.sum(cf_matrix, axis=1)[:, None], index = [i for i in classes],\n",
    "                     columns = [i for i in classes])\n",
    "plt.figure(figsize = (12,7))\n",
    "sn.heatmap(df_cm, annot=True)\n",
    "plt.savefig('output.png')"
   ]
  },
  {
   "cell_type": "code",
   "execution_count": 17,
   "metadata": {},
   "outputs": [
    {
     "data": {
      "image/png": "[encoded data removed]",
      "text/plain": [
       "<Figure size 640x480 with 1 Axes>"
      ]
     },
     "metadata": {},
     "output_type": "display_data"
    }
   ],
   "source": [
    "from sklearn.metrics import roc_curve, auc\n",
    "\n",
    "fpr, tpr, threshold =roc_curve(y_true, y_true_roc)\n",
    "roc_auc = auc(fpr, tpr)\n",
    "\n",
    "import matplotlib.pyplot as plt\n",
    "plt.title('Receiver Operating Characteristic')\n",
    "plt.plot(fpr, tpr, 'b', label = 'AUC = %0.2f'%roc_auc)\n",
    "plt.legend(loc = 'lower right')\n",
    "plt.plot([0, 1], [0, 1],'r--')\n",
    "plt.xlim([0, 1])\n",
    "plt.ylim([0, 1])\n",
    "plt.ylabel('True Positive Rate')\n",
    "plt.xlabel('False Positive Rate')\n",
    "plt.show()\n"
   ]
  }
 ],
 "metadata": {
  "kernelspec": {
   "display_name": "Python 3",
   "language": "python",
   "name": "python3"
  },
  "language_info": {
   "codemirror_mode": {
    "name": "ipython",
    "version": 3
   },
   "file_extension": ".py",
   "mimetype": "text/x-python",
   "name": "python",
   "nbconvert_exporter": "python",
   "pygments_lexer": "ipython3",
   "version": "3.10.11"
  },
  "orig_nbformat": 4,
  "vscode": {
   "interpreter": {
    "hash": "ad6dcaccfde56086101928eb0cd9bbba3cb4f6fab1b2d068fc2dc906990c4d98"
   }
  }
 },
 "nbformat": 4,
 "nbformat_minor": 2
}
